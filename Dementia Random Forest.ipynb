{
 "cells": [
  {
   "cell_type": "code",
   "execution_count": 1,
   "id": "c3be2542",
   "metadata": {},
   "outputs": [],
   "source": [
    "import pandas as pd\n",
    "import numpy as np\n",
    "from sklearn.preprocessing import MinMaxScaler\n",
    "from sklearn.impute  import SimpleImputer\n",
    "from sklearn import preprocessing\n",
    "from sklearn.model_selection import train_test_split\n",
    "from sklearn.ensemble import RandomForestClassifier\n",
    "from sklearn.metrics import accuracy_score\n",
    "import matplotlib.pyplot as plt"
   ]
  },
  {
   "cell_type": "code",
   "execution_count": 2,
   "id": "84300406",
   "metadata": {},
   "outputs": [],
   "source": [
    "c = pd.read_csv(\"c.csv\")\n",
    "l = pd.read_csv(\"l.csv\")"
   ]
  },
  {
   "cell_type": "code",
   "execution_count": 3,
   "id": "d32a01c2",
   "metadata": {},
   "outputs": [],
   "source": [
    "c.dropna(subset=['CDR'],inplace=True)\n",
    "# c.drop(columns=['ID','Delay'],inplace=True)\n",
    "l= l.rename(columns={'EDUC':'Educ'})\n",
    "l.drop(columns=['Subject ID','MRI ID','Group','Visit','MR Delay'],inplace=True)"
   ]
  },
  {
   "cell_type": "code",
   "execution_count": 4,
   "id": "57e23569",
   "metadata": {},
   "outputs": [],
   "source": [
    "c['Educ'] = MinMaxScaler().fit_transform(np.array(c['Educ']).reshape(-1,1))\n",
    "l['Educ'] = MinMaxScaler().fit_transform(np.array(l['Educ']).reshape(-1,1))"
   ]
  },
  {
   "cell_type": "code",
   "execution_count": 5,
   "id": "2382b074",
   "metadata": {},
   "outputs": [],
   "source": [
    "data = pd.concat([c,l])"
   ]
  },
  {
   "cell_type": "code",
   "execution_count": 6,
   "id": "c47e4709",
   "metadata": {},
   "outputs": [],
   "source": [
    "data.iloc[:,0]=data.iloc[:,0].map({'F':0, 'M':1})\n",
    "data.iloc[:,1]=data.iloc[:,1].map({'L':0, 'R':1})\n",
    "\n",
    "#Right -> 1\n",
    "#Left - > 0\n",
    "\n",
    "#Male -> 1\n",
    "#Female -> 0"
   ]
  },
  {
   "cell_type": "code",
   "execution_count": 7,
   "id": "ba0809ca",
   "metadata": {},
   "outputs": [],
   "source": [
    "imputer = SimpleImputer (missing_values = np.nan,strategy='most_frequent')\n",
    "\n",
    "imputer.fit(data[['SES']])\n",
    "data[['SES']] = imputer.fit_transform(data[['SES']])\n",
    "\n",
    "imputer = SimpleImputer ( missing_values = np.nan,strategy='median')\n",
    "\n",
    "imputer.fit(data[['MMSE']])\n",
    "data[['MMSE']] = imputer.fit_transform(data[['MMSE']])"
   ]
  },
  {
   "cell_type": "code",
   "execution_count": 8,
   "id": "21df5367",
   "metadata": {},
   "outputs": [],
   "source": [
    "le = preprocessing.LabelEncoder()\n",
    "data['CDR'] = le.fit_transform(data['CDR'].values)"
   ]
  },
  {
   "cell_type": "code",
   "execution_count": 9,
   "id": "8ade9523",
   "metadata": {},
   "outputs": [],
   "source": [
    "# plt.bar(data['CDR'].unique(),data['CDR'].value_counts())"
   ]
  },
  {
   "cell_type": "code",
   "execution_count": 10,
   "id": "661d5117",
   "metadata": {},
   "outputs": [
    {
     "name": "stdout",
     "output_type": "stream",
     "text": [
      "<class 'pandas.core.frame.DataFrame'>\n",
      "Int64Index: 608 entries, 0 to 372\n",
      "Data columns (total 10 columns):\n",
      " #   Column  Non-Null Count  Dtype  \n",
      "---  ------  --------------  -----  \n",
      " 0   M/F     608 non-null    int64  \n",
      " 1   Hand    608 non-null    int64  \n",
      " 2   Age     608 non-null    int64  \n",
      " 3   Educ    608 non-null    float64\n",
      " 4   SES     608 non-null    float64\n",
      " 5   MMSE    608 non-null    float64\n",
      " 6   CDR     608 non-null    int64  \n",
      " 7   eTIV    608 non-null    int64  \n",
      " 8   nWBV    608 non-null    float64\n",
      " 9   ASF     608 non-null    float64\n",
      "dtypes: float64(5), int64(5)\n",
      "memory usage: 52.2 KB\n"
     ]
    }
   ],
   "source": [
    "data.info()"
   ]
  },
  {
   "cell_type": "code",
   "execution_count": 11,
   "id": "a02d31a2",
   "metadata": {},
   "outputs": [
    {
     "data": {
      "text/plain": [
       "M/F       int64\n",
       "Hand      int64\n",
       "Age       int64\n",
       "Educ    float64\n",
       "SES       int32\n",
       "MMSE      int32\n",
       "CDR       int64\n",
       "eTIV      int64\n",
       "nWBV    float64\n",
       "ASF     float64\n",
       "dtype: object"
      ]
     },
     "execution_count": 11,
     "metadata": {},
     "output_type": "execute_result"
    }
   ],
   "source": [
    "data[['SES','MMSE']] = data[['SES','MMSE']].astype(int)\n",
    "data.dtypes"
   ]
  },
  {
   "cell_type": "code",
   "execution_count": 12,
   "id": "69706ef6",
   "metadata": {},
   "outputs": [
    {
     "data": {
      "text/html": [
       "<div>\n",
       "<style scoped>\n",
       "    .dataframe tbody tr th:only-of-type {\n",
       "        vertical-align: middle;\n",
       "    }\n",
       "\n",
       "    .dataframe tbody tr th {\n",
       "        vertical-align: top;\n",
       "    }\n",
       "\n",
       "    .dataframe thead th {\n",
       "        text-align: right;\n",
       "    }\n",
       "</style>\n",
       "<table border=\"1\" class=\"dataframe\">\n",
       "  <thead>\n",
       "    <tr style=\"text-align: right;\">\n",
       "      <th></th>\n",
       "      <th>M/F</th>\n",
       "      <th>Hand</th>\n",
       "      <th>Age</th>\n",
       "      <th>Educ</th>\n",
       "      <th>SES</th>\n",
       "      <th>MMSE</th>\n",
       "      <th>CDR</th>\n",
       "      <th>eTIV</th>\n",
       "      <th>nWBV</th>\n",
       "      <th>ASF</th>\n",
       "    </tr>\n",
       "  </thead>\n",
       "  <tbody>\n",
       "    <tr>\n",
       "      <th>count</th>\n",
       "      <td>608.000000</td>\n",
       "      <td>608.0</td>\n",
       "      <td>608.000000</td>\n",
       "      <td>608.000000</td>\n",
       "      <td>608.000000</td>\n",
       "      <td>608.000000</td>\n",
       "      <td>608.000000</td>\n",
       "      <td>608.000000</td>\n",
       "      <td>608.00000</td>\n",
       "      <td>608.000000</td>\n",
       "    </tr>\n",
       "    <tr>\n",
       "      <th>mean</th>\n",
       "      <td>0.393092</td>\n",
       "      <td>1.0</td>\n",
       "      <td>75.208882</td>\n",
       "      <td>0.520801</td>\n",
       "      <td>2.442434</td>\n",
       "      <td>27.240132</td>\n",
       "      <td>0.569079</td>\n",
       "      <td>1477.062500</td>\n",
       "      <td>0.73713</td>\n",
       "      <td>1.203597</td>\n",
       "    </tr>\n",
       "    <tr>\n",
       "      <th>std</th>\n",
       "      <td>0.488839</td>\n",
       "      <td>0.0</td>\n",
       "      <td>9.865026</td>\n",
       "      <td>0.243613</td>\n",
       "      <td>1.098138</td>\n",
       "      <td>3.683290</td>\n",
       "      <td>0.722775</td>\n",
       "      <td>170.653795</td>\n",
       "      <td>0.04267</td>\n",
       "      <td>0.135091</td>\n",
       "    </tr>\n",
       "    <tr>\n",
       "      <th>min</th>\n",
       "      <td>0.000000</td>\n",
       "      <td>1.0</td>\n",
       "      <td>33.000000</td>\n",
       "      <td>0.000000</td>\n",
       "      <td>1.000000</td>\n",
       "      <td>4.000000</td>\n",
       "      <td>0.000000</td>\n",
       "      <td>1106.000000</td>\n",
       "      <td>0.64400</td>\n",
       "      <td>0.876000</td>\n",
       "    </tr>\n",
       "    <tr>\n",
       "      <th>25%</th>\n",
       "      <td>0.000000</td>\n",
       "      <td>1.0</td>\n",
       "      <td>70.000000</td>\n",
       "      <td>0.352941</td>\n",
       "      <td>2.000000</td>\n",
       "      <td>26.000000</td>\n",
       "      <td>0.000000</td>\n",
       "      <td>1352.500000</td>\n",
       "      <td>0.70400</td>\n",
       "      <td>1.118000</td>\n",
       "    </tr>\n",
       "    <tr>\n",
       "      <th>50%</th>\n",
       "      <td>0.000000</td>\n",
       "      <td>1.0</td>\n",
       "      <td>76.000000</td>\n",
       "      <td>0.500000</td>\n",
       "      <td>2.000000</td>\n",
       "      <td>29.000000</td>\n",
       "      <td>0.000000</td>\n",
       "      <td>1460.000000</td>\n",
       "      <td>0.73600</td>\n",
       "      <td>1.202000</td>\n",
       "    </tr>\n",
       "    <tr>\n",
       "      <th>75%</th>\n",
       "      <td>1.000000</td>\n",
       "      <td>1.0</td>\n",
       "      <td>82.000000</td>\n",
       "      <td>0.705882</td>\n",
       "      <td>3.000000</td>\n",
       "      <td>30.000000</td>\n",
       "      <td>1.000000</td>\n",
       "      <td>1569.000000</td>\n",
       "      <td>0.76625</td>\n",
       "      <td>1.297500</td>\n",
       "    </tr>\n",
       "    <tr>\n",
       "      <th>max</th>\n",
       "      <td>1.000000</td>\n",
       "      <td>1.0</td>\n",
       "      <td>98.000000</td>\n",
       "      <td>1.000000</td>\n",
       "      <td>5.000000</td>\n",
       "      <td>30.000000</td>\n",
       "      <td>3.000000</td>\n",
       "      <td>2004.000000</td>\n",
       "      <td>0.84700</td>\n",
       "      <td>1.587000</td>\n",
       "    </tr>\n",
       "  </tbody>\n",
       "</table>\n",
       "</div>"
      ],
      "text/plain": [
       "              M/F   Hand         Age        Educ         SES        MMSE  \\\n",
       "count  608.000000  608.0  608.000000  608.000000  608.000000  608.000000   \n",
       "mean     0.393092    1.0   75.208882    0.520801    2.442434   27.240132   \n",
       "std      0.488839    0.0    9.865026    0.243613    1.098138    3.683290   \n",
       "min      0.000000    1.0   33.000000    0.000000    1.000000    4.000000   \n",
       "25%      0.000000    1.0   70.000000    0.352941    2.000000   26.000000   \n",
       "50%      0.000000    1.0   76.000000    0.500000    2.000000   29.000000   \n",
       "75%      1.000000    1.0   82.000000    0.705882    3.000000   30.000000   \n",
       "max      1.000000    1.0   98.000000    1.000000    5.000000   30.000000   \n",
       "\n",
       "              CDR         eTIV       nWBV         ASF  \n",
       "count  608.000000   608.000000  608.00000  608.000000  \n",
       "mean     0.569079  1477.062500    0.73713    1.203597  \n",
       "std      0.722775   170.653795    0.04267    0.135091  \n",
       "min      0.000000  1106.000000    0.64400    0.876000  \n",
       "25%      0.000000  1352.500000    0.70400    1.118000  \n",
       "50%      0.000000  1460.000000    0.73600    1.202000  \n",
       "75%      1.000000  1569.000000    0.76625    1.297500  \n",
       "max      3.000000  2004.000000    0.84700    1.587000  "
      ]
     },
     "execution_count": 12,
     "metadata": {},
     "output_type": "execute_result"
    }
   ],
   "source": [
    "data.describe()"
   ]
  },
  {
   "cell_type": "code",
   "execution_count": 13,
   "id": "4e28a1cc",
   "metadata": {},
   "outputs": [],
   "source": [
    "y = data.iloc[:,6]\n",
    "x = data.iloc[:,[0,1,2,3,4,5,7,8,9]]"
   ]
  },
  {
   "cell_type": "code",
   "execution_count": 14,
   "id": "b30332f6",
   "metadata": {},
   "outputs": [],
   "source": [
    "X_train, X_test, y_train, y_test = train_test_split(x, y, random_state = 42,test_size=0.3)"
   ]
  },
  {
   "cell_type": "code",
   "execution_count": 15,
   "id": "bbb55047",
   "metadata": {},
   "outputs": [
    {
     "data": {
      "text/plain": [
       "0.8032786885245902"
      ]
     },
     "execution_count": 15,
     "metadata": {},
     "output_type": "execute_result"
    }
   ],
   "source": [
    "clfrf = RandomForestClassifier() \n",
    "clfrf.fit(X_train, y_train)\n",
    "y_pred_rf = clfrf.predict(X_test)\n",
    "accuracy_score(y_test, y_pred_rf)"
   ]
  },
  {
   "cell_type": "code",
   "execution_count": 16,
   "id": "c1072840",
   "metadata": {},
   "outputs": [
    {
     "data": {
      "text/html": [
       "<div>\n",
       "<style scoped>\n",
       "    .dataframe tbody tr th:only-of-type {\n",
       "        vertical-align: middle;\n",
       "    }\n",
       "\n",
       "    .dataframe tbody tr th {\n",
       "        vertical-align: top;\n",
       "    }\n",
       "\n",
       "    .dataframe thead th {\n",
       "        text-align: right;\n",
       "    }\n",
       "</style>\n",
       "<table border=\"1\" class=\"dataframe\">\n",
       "  <thead>\n",
       "    <tr style=\"text-align: right;\">\n",
       "      <th></th>\n",
       "      <th>M/F</th>\n",
       "      <th>Hand</th>\n",
       "      <th>Age</th>\n",
       "      <th>Educ</th>\n",
       "      <th>SES</th>\n",
       "      <th>MMSE</th>\n",
       "      <th>CDR</th>\n",
       "      <th>eTIV</th>\n",
       "      <th>nWBV</th>\n",
       "      <th>ASF</th>\n",
       "    </tr>\n",
       "  </thead>\n",
       "  <tbody>\n",
       "    <tr>\n",
       "      <th>0</th>\n",
       "      <td>0</td>\n",
       "      <td>1</td>\n",
       "      <td>74</td>\n",
       "      <td>0.25</td>\n",
       "      <td>3</td>\n",
       "      <td>29</td>\n",
       "      <td>0</td>\n",
       "      <td>1344</td>\n",
       "      <td>0.743</td>\n",
       "      <td>1.306</td>\n",
       "    </tr>\n",
       "    <tr>\n",
       "      <th>1</th>\n",
       "      <td>0</td>\n",
       "      <td>1</td>\n",
       "      <td>55</td>\n",
       "      <td>0.75</td>\n",
       "      <td>1</td>\n",
       "      <td>29</td>\n",
       "      <td>0</td>\n",
       "      <td>1147</td>\n",
       "      <td>0.810</td>\n",
       "      <td>1.531</td>\n",
       "    </tr>\n",
       "    <tr>\n",
       "      <th>2</th>\n",
       "      <td>0</td>\n",
       "      <td>1</td>\n",
       "      <td>73</td>\n",
       "      <td>0.75</td>\n",
       "      <td>3</td>\n",
       "      <td>27</td>\n",
       "      <td>1</td>\n",
       "      <td>1454</td>\n",
       "      <td>0.708</td>\n",
       "      <td>1.207</td>\n",
       "    </tr>\n",
       "    <tr>\n",
       "      <th>8</th>\n",
       "      <td>1</td>\n",
       "      <td>1</td>\n",
       "      <td>74</td>\n",
       "      <td>1.00</td>\n",
       "      <td>2</td>\n",
       "      <td>30</td>\n",
       "      <td>0</td>\n",
       "      <td>1636</td>\n",
       "      <td>0.689</td>\n",
       "      <td>1.073</td>\n",
       "    </tr>\n",
       "    <tr>\n",
       "      <th>9</th>\n",
       "      <td>0</td>\n",
       "      <td>1</td>\n",
       "      <td>52</td>\n",
       "      <td>0.50</td>\n",
       "      <td>2</td>\n",
       "      <td>30</td>\n",
       "      <td>0</td>\n",
       "      <td>1321</td>\n",
       "      <td>0.827</td>\n",
       "      <td>1.329</td>\n",
       "    </tr>\n",
       "  </tbody>\n",
       "</table>\n",
       "</div>"
      ],
      "text/plain": [
       "   M/F  Hand  Age  Educ  SES  MMSE  CDR  eTIV   nWBV    ASF\n",
       "0    0     1   74  0.25    3    29    0  1344  0.743  1.306\n",
       "1    0     1   55  0.75    1    29    0  1147  0.810  1.531\n",
       "2    0     1   73  0.75    3    27    1  1454  0.708  1.207\n",
       "8    1     1   74  1.00    2    30    0  1636  0.689  1.073\n",
       "9    0     1   52  0.50    2    30    0  1321  0.827  1.329"
      ]
     },
     "execution_count": 16,
     "metadata": {},
     "output_type": "execute_result"
    }
   ],
   "source": [
    "data.head()"
   ]
  },
  {
   "cell_type": "code",
   "execution_count": 17,
   "id": "3c215577",
   "metadata": {},
   "outputs": [
    {
     "name": "stdout",
     "output_type": "stream",
     "text": [
      "[0]\n"
     ]
    },
    {
     "name": "stderr",
     "output_type": "stream",
     "text": [
      "C:\\Users\\obaid\\AppData\\Local\\Programs\\Python\\Python39\\lib\\site-packages\\sklearn\\base.py:450: UserWarning: X does not have valid feature names, but RandomForestClassifier was fitted with feature names\n",
      "  warnings.warn(\n"
     ]
    }
   ],
   "source": [
    "print(clfrf.predict(([[0,1,62,0.75,2,29,1334,0.743,1.306]])))"
   ]
  },
  {
   "cell_type": "code",
   "execution_count": 18,
   "id": "f48f67c2",
   "metadata": {},
   "outputs": [
    {
     "data": {
      "text/plain": [
       "array([0, 1, 2, 3], dtype=int64)"
      ]
     },
     "execution_count": 18,
     "metadata": {},
     "output_type": "execute_result"
    }
   ],
   "source": [
    "data['CDR'].unique()"
   ]
  },
  {
   "cell_type": "code",
   "execution_count": 19,
   "id": "96d35225",
   "metadata": {},
   "outputs": [],
   "source": [
    "# data.loc[data['CDR']==0]"
   ]
  },
  {
   "cell_type": "code",
   "execution_count": 20,
   "id": "0d7df81f",
   "metadata": {},
   "outputs": [
    {
     "data": {
      "image/png": "[encoded data removed]",
      "text/plain": [
       "<Figure size 360x360 with 1 Axes>"
      ]
     },
     "metadata": {
      "needs_background": "light"
     },
     "output_type": "display_data"
    }
   ],
   "source": [
    "rf = RandomForestClassifier(n_estimators=250)\n",
    "\n",
    "rf.fit(x,y)\n",
    "\n",
    "f_i = list(zip(x,rf.feature_importances_))\n",
    "f_i.sort(key = lambda x : x[1])\n",
    "plt.barh([x[0] for x in f_i],[x[1] for x in f_i])\n",
    "\n",
    "plt.gcf().set_size_inches(5,5)\n",
    "\n",
    "plt.show()"
   ]
  },
  {
   "cell_type": "markdown",
   "id": "9dc05eae",
   "metadata": {},
   "source": [
    "#XXXXXXXXXXXXXXXXXXXXXXXXXXXXXXXXXXXXXXXXXXXXXXXXXXXXXXXXXXXXXXXXXXXXXXXXXXXXXXXXXXXXXXXXXXXXXXXXXXXXXX#"
   ]
  },
  {
   "cell_type": "code",
   "execution_count": 21,
   "id": "d978d36a",
   "metadata": {},
   "outputs": [],
   "source": [
    "# x1=input()\n",
    "# x2=input()\n",
    "# x3=input()\n",
    "# x4=input()\n",
    "# x5=input()\n",
    "# x6=input()\n",
    "# x7=input()\n",
    "# x8=input()\n",
    "# x9=input()"
   ]
  },
  {
   "cell_type": "code",
   "execution_count": 22,
   "id": "8ede405c",
   "metadata": {},
   "outputs": [],
   "source": [
    "# arr=[[x1,x2,x3,x4,x5,x6,x7,x8,x9]]\n",
    "# arr"
   ]
  },
  {
   "cell_type": "code",
   "execution_count": 23,
   "id": "e86cc719",
   "metadata": {},
   "outputs": [],
   "source": [
    "# print(clfrf.predict(arr))"
   ]
  },
  {
   "cell_type": "code",
   "execution_count": 29,
   "id": "51fe1ac6",
   "metadata": {},
   "outputs": [
    {
     "data": {
      "text/html": [
       "<div>\n",
       "<style scoped>\n",
       "    .dataframe tbody tr th:only-of-type {\n",
       "        vertical-align: middle;\n",
       "    }\n",
       "\n",
       "    .dataframe tbody tr th {\n",
       "        vertical-align: top;\n",
       "    }\n",
       "\n",
       "    .dataframe thead th {\n",
       "        text-align: right;\n",
       "    }\n",
       "</style>\n",
       "<table border=\"1\" class=\"dataframe\">\n",
       "  <thead>\n",
       "    <tr style=\"text-align: right;\">\n",
       "      <th></th>\n",
       "      <th>M/F</th>\n",
       "      <th>Hand</th>\n",
       "      <th>Age</th>\n",
       "      <th>Educ</th>\n",
       "      <th>SES</th>\n",
       "      <th>MMSE</th>\n",
       "      <th>CDR</th>\n",
       "      <th>eTIV</th>\n",
       "      <th>nWBV</th>\n",
       "      <th>ASF</th>\n",
       "    </tr>\n",
       "  </thead>\n",
       "  <tbody>\n",
       "    <tr>\n",
       "      <th>278</th>\n",
       "      <td>0</td>\n",
       "      <td>1</td>\n",
       "      <td>78</td>\n",
       "      <td>0.500000</td>\n",
       "      <td>3</td>\n",
       "      <td>15</td>\n",
       "      <td>3</td>\n",
       "      <td>1401</td>\n",
       "      <td>0.703</td>\n",
       "      <td>1.253</td>\n",
       "    </tr>\n",
       "    <tr>\n",
       "      <th>317</th>\n",
       "      <td>1</td>\n",
       "      <td>1</td>\n",
       "      <td>86</td>\n",
       "      <td>0.000000</td>\n",
       "      <td>4</td>\n",
       "      <td>15</td>\n",
       "      <td>3</td>\n",
       "      <td>1512</td>\n",
       "      <td>0.665</td>\n",
       "      <td>1.161</td>\n",
       "    </tr>\n",
       "    <tr>\n",
       "      <th>184</th>\n",
       "      <td>0</td>\n",
       "      <td>1</td>\n",
       "      <td>98</td>\n",
       "      <td>0.647059</td>\n",
       "      <td>1</td>\n",
       "      <td>21</td>\n",
       "      <td>3</td>\n",
       "      <td>1503</td>\n",
       "      <td>0.660</td>\n",
       "      <td>1.168</td>\n",
       "    </tr>\n",
       "    <tr>\n",
       "      <th>251</th>\n",
       "      <td>0</td>\n",
       "      <td>1</td>\n",
       "      <td>78</td>\n",
       "      <td>0.470588</td>\n",
       "      <td>3</td>\n",
       "      <td>15</td>\n",
       "      <td>3</td>\n",
       "      <td>1401</td>\n",
       "      <td>0.700</td>\n",
       "      <td>1.253</td>\n",
       "    </tr>\n",
       "    <tr>\n",
       "      <th>330</th>\n",
       "      <td>1</td>\n",
       "      <td>1</td>\n",
       "      <td>79</td>\n",
       "      <td>0.823529</td>\n",
       "      <td>1</td>\n",
       "      <td>25</td>\n",
       "      <td>3</td>\n",
       "      <td>1710</td>\n",
       "      <td>0.760</td>\n",
       "      <td>1.026</td>\n",
       "    </tr>\n",
       "  </tbody>\n",
       "</table>\n",
       "</div>"
      ],
      "text/plain": [
       "     M/F  Hand  Age      Educ  SES  MMSE  CDR  eTIV   nWBV    ASF\n",
       "278    0     1   78  0.500000    3    15    3  1401  0.703  1.253\n",
       "317    1     1   86  0.000000    4    15    3  1512  0.665  1.161\n",
       "184    0     1   98  0.647059    1    21    3  1503  0.660  1.168\n",
       "251    0     1   78  0.470588    3    15    3  1401  0.700  1.253\n",
       "330    1     1   79  0.823529    1    25    3  1710  0.760  1.026"
      ]
     },
     "execution_count": 29,
     "metadata": {},
     "output_type": "execute_result"
    }
   ],
   "source": [
    "data.loc[data[\"CDR\"]==3]"
   ]
  },
  {
   "cell_type": "code",
   "execution_count": 25,
   "id": "1aac926e",
   "metadata": {},
   "outputs": [
    {
     "data": {
      "text/plain": [
       "array([ 4,  7, 14, 15, 16, 17, 18, 19, 20, 21, 22, 23, 24, 25, 26, 27, 28,\n",
       "       29, 30])"
      ]
     },
     "execution_count": 25,
     "metadata": {},
     "output_type": "execute_result"
    }
   ],
   "source": [
    "np.sort(data['MMSE'].unique())"
   ]
  },
  {
   "cell_type": "code",
   "execution_count": null,
   "id": "e5b97abc",
   "metadata": {},
   "outputs": [],
   "source": []
  }
 ],
 "metadata": {
  "kernelspec": {
   "display_name": "Python 3 (ipykernel)",
   "language": "python",
   "name": "python3"
  },
  "language_info": {
   "codemirror_mode": {
    "name": "ipython",
    "version": 3
   },
   "file_extension": ".py",
   "mimetype": "text/x-python",
   "name": "python",
   "nbconvert_exporter": "python",
   "pygments_lexer": "ipython3",
   "version": "3.9.0"
  }
 },
 "nbformat": 4,
 "nbformat_minor": 5
}
